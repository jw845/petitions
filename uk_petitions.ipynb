{
 "cells": [
  {
   "cell_type": "markdown",
   "metadata": {},
   "source": [
    "# What does the public want?\n",
    "\n",
    "## Identifying the main themes in UK Parliament e-petitions"
   ]
  },
  {
   "cell_type": "markdown",
   "metadata": {},
   "source": [
    "The ability to petition Parliament gives the people **power to join together in support of causes and effect change**. In the UK, British citizens and UK residents are able to create petitions on the UK Parliament petitions website; at 10,000 signatures petitions will get a response from the government, at 100,000 signatures petitions will be considered for a debate in Parliament (though it's of course not always successful, take [Revoke Article 50 and remain in the EU](https://petition.parliament.uk/archived/petitions/241584) for example).\n",
    "\n",
    "**But what, you ask, are the themes that keep appearing?** In an age of information overload, it can be hard to keep track. In this notebook I use natural language processing andtopic modelling to pull out the key themes in petitions submitted by members of the public to the UK Parliament e-petitions website.\n",
    "\n",
    "Data is sourced from the [UK Parliament petitions website](https://petition.parliament.uk/), available under the Open Government Licence v3.0 ([OGL v3.0](https://www.nationalarchives.gov.uk/doc/open-government-licence/version/3/)). More info on the history of the UK Parliament petitions website can be found in the [wikipedia entry](https://en.wikipedia.org/wiki/UK_Parliament_petitions_website)."
   ]
  },
  {
   "cell_type": "markdown",
   "metadata": {},
   "source": [
    "### Import libraries"
   ]
  },
  {
   "cell_type": "code",
   "execution_count": 31,
   "metadata": {},
   "outputs": [],
   "source": [
    "import glob, os\n",
    "import pandas as pd\n",
    "import pickle"
   ]
  },
  {
   "cell_type": "code",
   "execution_count": 2,
   "metadata": {},
   "outputs": [],
   "source": [
    "import urllib3\n",
    "from bs4 import BeautifulSoup\n",
    "import json\n",
    "import time\n",
    "\n",
    "http = urllib3.PoolManager()"
   ]
  },
  {
   "cell_type": "code",
   "execution_count": 41,
   "metadata": {},
   "outputs": [
    {
     "ename": "ModuleNotFoundError",
     "evalue": "No module named 'pyLDAvis'",
     "output_type": "error",
     "traceback": [
      "\u001b[0;31m---------------------------------------------------------------------------\u001b[0m",
      "\u001b[0;31mModuleNotFoundError\u001b[0m                       Traceback (most recent call last)",
      "\u001b[0;32m<ipython-input-41-a566fd1269b3>\u001b[0m in \u001b[0;36m<module>\u001b[0;34m\u001b[0m\n\u001b[1;32m      7\u001b[0m \u001b[0;31m#from gensim.models.phrases import Phrases\u001b[0m\u001b[0;34m\u001b[0m\u001b[0;34m\u001b[0m\u001b[0;34m\u001b[0m\u001b[0m\n\u001b[1;32m      8\u001b[0m \u001b[0;31m#from gensim.similarities import MatrixSimilarity\u001b[0m\u001b[0;34m\u001b[0m\u001b[0;34m\u001b[0m\u001b[0;34m\u001b[0m\u001b[0m\n\u001b[0;32m----> 9\u001b[0;31m \u001b[0;32mimport\u001b[0m \u001b[0mpyLDAvis\u001b[0m\u001b[0;34m.\u001b[0m\u001b[0mgensim\u001b[0m\u001b[0;34m\u001b[0m\u001b[0;34m\u001b[0m\u001b[0m\n\u001b[0m\u001b[1;32m     10\u001b[0m \u001b[0;34m\u001b[0m\u001b[0m\n\u001b[1;32m     11\u001b[0m \u001b[0;32mimport\u001b[0m \u001b[0mmultiprocessing\u001b[0m \u001b[0;32mas\u001b[0m \u001b[0mmp\u001b[0m\u001b[0;34m\u001b[0m\u001b[0;34m\u001b[0m\u001b[0m\n",
      "\u001b[0;31mModuleNotFoundError\u001b[0m: No module named 'pyLDAvis'"
     ]
    }
   ],
   "source": [
    "import re\n",
    "import spacy\n",
    "from spacy.lang.en import English\n",
    "import gensim\n",
    "from gensim.models import TfidfModel\n",
    "#import pyLDAvis.gensim\n",
    "\n",
    "import multiprocessing as mp"
   ]
  },
  {
   "cell_type": "code",
   "execution_count": 4,
   "metadata": {},
   "outputs": [],
   "source": [
    "import seaborn as sns\n",
    "import matplotlib.pyplot as plt\n",
    "from wordcloud import WordCloud\n",
    "\n",
    "sns.set(font_scale=1.2)"
   ]
  },
  {
   "cell_type": "markdown",
   "metadata": {},
   "source": [
    "#### Functions to read and write to pickle"
   ]
  },
  {
   "cell_type": "code",
   "execution_count": 20,
   "metadata": {},
   "outputs": [],
   "source": [
    "def write_pkl(fname, obj):\n",
    "    with open(fname,'wb') as pklf:\n",
    "        pickle.dump((obj), pklf)\n",
    "        print('Saved to', fname)\n",
    "        \n",
    "def read_pkl(fname):\n",
    "    with open(fname,'rb') as pklf:\n",
    "        obj = pickle.load(pklf)\n",
    "    return obj"
   ]
  },
  {
   "cell_type": "markdown",
   "metadata": {},
   "source": [
    "### Get the data\n",
    "\n",
    "First, I download lists (CSV format) of current and archived petitions from the [UK Parliament petitions website](https://petition.parliament.uk/). At time of accessing the data, the archive covers 2010-2019, and current through to mid- 2021.\n",
    "\n",
    "#### Read the lists of petitions\n",
    "\n",
    "Stored locally in `data/`."
   ]
  },
  {
   "cell_type": "code",
   "execution_count": 112,
   "metadata": {},
   "outputs": [
    {
     "name": "stdout",
     "output_type": "stream",
     "text": [
      "57727 petitions (23456 rejected petitions discarded)\n"
     ]
    },
    {
     "data": {
      "text/html": [
       "<div>\n",
       "<style scoped>\n",
       "    .dataframe tbody tr th:only-of-type {\n",
       "        vertical-align: middle;\n",
       "    }\n",
       "\n",
       "    .dataframe tbody tr th {\n",
       "        vertical-align: top;\n",
       "    }\n",
       "\n",
       "    .dataframe thead th {\n",
       "        text-align: right;\n",
       "    }\n",
       "</style>\n",
       "<table border=\"1\" class=\"dataframe\">\n",
       "  <thead>\n",
       "    <tr style=\"text-align: right;\">\n",
       "      <th></th>\n",
       "      <th>Petition</th>\n",
       "      <th>URL</th>\n",
       "      <th>State</th>\n",
       "      <th>Signatures Count</th>\n",
       "    </tr>\n",
       "  </thead>\n",
       "  <tbody>\n",
       "    <tr>\n",
       "      <th>0</th>\n",
       "      <td>Introduce a rate increase cap on pay TV pricin...</td>\n",
       "      <td>https://petition.parliament.uk/archived/petiti...</td>\n",
       "      <td>closed</td>\n",
       "      <td>22</td>\n",
       "    </tr>\n",
       "    <tr>\n",
       "      <th>1</th>\n",
       "      <td>Impose a heavy extra tax on foreign buyers of ...</td>\n",
       "      <td>https://petition.parliament.uk/archived/petiti...</td>\n",
       "      <td>closed</td>\n",
       "      <td>383</td>\n",
       "    </tr>\n",
       "    <tr>\n",
       "      <th>2</th>\n",
       "      <td>Hold a referendum on electoral reform with the...</td>\n",
       "      <td>https://petition.parliament.uk/archived/petiti...</td>\n",
       "      <td>closed</td>\n",
       "      <td>4767</td>\n",
       "    </tr>\n",
       "    <tr>\n",
       "      <th>3</th>\n",
       "      <td>Make the 'Steam' refund policy the law for all...</td>\n",
       "      <td>https://petition.parliament.uk/archived/petiti...</td>\n",
       "      <td>closed</td>\n",
       "      <td>94</td>\n",
       "    </tr>\n",
       "    <tr>\n",
       "      <th>4</th>\n",
       "      <td>Ban unpaid internships</td>\n",
       "      <td>https://petition.parliament.uk/archived/petiti...</td>\n",
       "      <td>closed</td>\n",
       "      <td>438</td>\n",
       "    </tr>\n",
       "  </tbody>\n",
       "</table>\n",
       "</div>"
      ],
      "text/plain": [
       "                                            Petition  \\\n",
       "0  Introduce a rate increase cap on pay TV pricin...   \n",
       "1  Impose a heavy extra tax on foreign buyers of ...   \n",
       "2  Hold a referendum on electoral reform with the...   \n",
       "3  Make the 'Steam' refund policy the law for all...   \n",
       "4                             Ban unpaid internships   \n",
       "\n",
       "                                                 URL   State  Signatures Count  \n",
       "0  https://petition.parliament.uk/archived/petiti...  closed                22  \n",
       "1  https://petition.parliament.uk/archived/petiti...  closed               383  \n",
       "2  https://petition.parliament.uk/archived/petiti...  closed              4767  \n",
       "3  https://petition.parliament.uk/archived/petiti...  closed                94  \n",
       "4  https://petition.parliament.uk/archived/petiti...  closed               438  "
      ]
     },
     "execution_count": 112,
     "metadata": {},
     "output_type": "execute_result"
    }
   ],
   "source": [
    "df = pd.DataFrame()\n",
    "\n",
    "for f in glob.glob('data/*.csv'):\n",
    "    df = df.append(pd.read_csv(f, header=0), ignore_index=True)\n",
    "    \n",
    "# Drop rejected petitions\n",
    "rejects = df[df['State'] == 'rejected']\n",
    "df = df[~df['URL'].isin(rejects['URL'])].reset_index(drop=True)\n",
    "\n",
    "print('%d petitions (%d rejected petitions discarded)' % (len(df), len(rejects)))\n",
    "df.head()"
   ]
  },
  {
   "cell_type": "markdown",
   "metadata": {},
   "source": [
    "#### Get the petition details\n",
    "The details of each petition (json entry) are pulled from the parliament site using the URL in the lists. I save all fields except signatures. *Note that web scraping should be done considerately and after referring to both T&Cs and robots.txt*\n",
    "\n",
    "This stage is time-consuming and better run as a script (rather than in a notebook) in the background."
   ]
  },
  {
   "cell_type": "code",
   "execution_count": 113,
   "metadata": {},
   "outputs": [],
   "source": [
    "errlog, details = [],[]\n",
    "\n",
    "# iterate over dataframe rows (NB this method is slow, but that's okay as we want slow in this case)\n",
    "for index, row in df.iterrows():\n",
    "\n",
    "    url = row['URL']+'.json'\n",
    "    try :\n",
    "        # get url json\n",
    "        response = http.request('GET', url)\n",
    "\n",
    "        # extract data attributes dict and add to list\n",
    "        try :\n",
    "            soup = BeautifulSoup(response.data)\n",
    "            petition_dict = json.loads(soup.text)['data']['attributes']\n",
    "        except :\n",
    "            petition_dict = json.loads(response.data)['data']['attributes']\n",
    "        details.append((index, {key: value for key, value in petition_dict.items() if 'signature' not in key}))\n",
    "        \n",
    "    except :\n",
    "        errlog.append((index, row['URL']))\n",
    "        details.append((index, ''))\n",
    "        \n",
    "    # scrape considerately(!) - add a delay of one second between requests\n",
    "    time.sleep(1)\n",
    "    \n",
    "    # save the list approximately every half hour\n",
    "    if index % 1800 == 0 :\n",
    "        write_pkl('data/details.pkl', details)\n",
    "        write_pkl('data/errlog.pkl', errlog)\n",
    "\n",
    "write_pkl('data/details.pkl', details)\n",
    "write_pkl('data/errlog.pkl', errlog)\n",
    "\n",
    "indices, dicts = list(zip(*details)) # unzip the (index, dict) tuples\n",
    "df['Details Dict'] = list(dicts)\n",
    "\n",
    "# save to pickle\n",
    "df.to_pickle('data/petitions_df.pkl')"
   ]
  },
  {
   "cell_type": "markdown",
   "metadata": {},
   "source": [
    "### Read petitions dataframe"
   ]
  },
  {
   "cell_type": "code",
   "execution_count": 6,
   "metadata": {},
   "outputs": [],
   "source": [
    "# read from pickle\n",
    "df = pd.read_pickle('data/petitions_df.pkl')"
   ]
  },
  {
   "cell_type": "markdown",
   "metadata": {},
   "source": [
    "Extract the fields containing free text"
   ]
  },
  {
   "cell_type": "code",
   "execution_count": 7,
   "metadata": {},
   "outputs": [
    {
     "data": {
      "text/plain": [
       "0        Introduce a rate increase cap on pay TV pricin...\n",
       "1        Impose a heavy extra tax on foreign buyers of ...\n",
       "2        Hold a referendum on electoral reform with the...\n",
       "3        Make the 'Steam' refund policy the law for all...\n",
       "4        Ban unpaid internships There is a lack of stan...\n",
       "                               ...                        \n",
       "57722    Increase funding for training and recruiting d...\n",
       "57723    Create a rent cap of £250 PCM per bedroom. Put...\n",
       "57724    Fund safety improvements to the M66 motorway T...\n",
       "57725    Fund increase in police stations across Englan...\n",
       "57726    Do not introduce mandatory photo identity veri...\n",
       "Name: Text, Length: 57727, dtype: object"
      ]
     },
     "execution_count": 7,
     "metadata": {},
     "output_type": "execute_result"
    }
   ],
   "source": [
    "def get_dict_val(x, key): # ensure returns a string if no value exists for key\n",
    "    if x[key] != None :\n",
    "        return x[key]\n",
    "    else :\n",
    "        return ''\n",
    "    \n",
    "df['Background'] = df['Details Dict'].apply(lambda x: get_dict_val(x,'background'))\n",
    "df['Additional Details'] = df['Details Dict'].apply(lambda x: get_dict_val(x,'additional_details'))\n",
    "\n",
    "df['Text'] = df[['Petition','Background','Additional Details']].agg(' '.join, axis=1)\n",
    "df['Text']"
   ]
  },
  {
   "cell_type": "markdown",
   "metadata": {},
   "source": [
    "## Prepare the text for topic modelling"
   ]
  },
  {
   "cell_type": "markdown",
   "metadata": {},
   "source": [
    "#### Function to clean up text\n",
    "\n",
    "Make lowercase, remove newlines, numbers and special characters"
   ]
  },
  {
   "cell_type": "code",
   "execution_count": 8,
   "metadata": {},
   "outputs": [],
   "source": [
    "def clean_text(text) :\n",
    "    # remove numbers and various special chars\n",
    "    text = text.replace(\"'\", \"\")    \n",
    "    text = re.sub('[`^’\"]+', '', text)\n",
    "    text = re.sub('[0-9-%$~*_;:,.><!?#@£=+/()&\\t]+', ' ', text)\n",
    "    text = re.sub(' +', ' ', text)\n",
    "    return text.strip()"
   ]
  },
  {
   "cell_type": "markdown",
   "metadata": {},
   "source": [
    "#### Function to prepare text\n",
    "\n",
    "* Clean up the text a bit: **make lowercase, remove newlines, numbers and special characters**\n",
    "\n",
    "\n",
    "* **Tokenize**, removing punctuation and spaces\n",
    "\n",
    "\n",
    "* **Lemmatize**, i.e. group together inflected forms of a word so they can be analysed as a single item\n",
    "\n",
    "\n",
    "* **Remove stopwords**, e.g. *is, the, a* - so that more focus can be given to those words which define the meaning of the text\n",
    "\n",
    "\n",
    "* **Remove manually curated list of terms** that we do not want including in the topic extraction\n",
    "\n",
    "\n",
    "*Note not stemming words (reducing words to root form)*"
   ]
  },
  {
   "cell_type": "code",
   "execution_count": 9,
   "metadata": {},
   "outputs": [],
   "source": [
    "# create the nlp object\n",
    "nlp = English()\n",
    "#nlp = spacy.load(\"en_core_web_sm\")\n",
    "\n",
    "# define function to prepare a text\n",
    "def prep(text) :\n",
    "    if type(text) != str :\n",
    "        print(text)\n",
    "    # make lowercase, remove newlines\n",
    "    text = text.lower().replace('\\n',' ')\n",
    "    \n",
    "    ##replace hyphenated words that we don't want to be separated\n",
    "    #text = text.replace('pre-school', 'preschool')\n",
    "    \n",
    "    # remove special chars/punctuation\n",
    "    text = clean_text(text)\n",
    "    \n",
    "    ## remove any unwanted phrases (ie containing spaces)\n",
    "    #text = text.replace('see fit','').replace('think fit','')\n",
    "    \n",
    "    ####### spaCy #######\n",
    "    \n",
    "    # create the doc\n",
    "    doc = nlp(text)\n",
    "    \n",
    "    # tokenize\n",
    "    tokens=[]\n",
    "    for token in doc:\n",
    "        \n",
    "        # ignore punctuation, spaces and any excluded terms (lists defined above)\n",
    "        if not token.is_punct | token.is_space : #and token.text not in locs + excl_terms :\n",
    "\n",
    "            # Lemmatize\n",
    "            if token.lemma_ != '-PRON-' : #and token.lemma_ != 'grind': # avoid 'ground' turning to 'grind'!\n",
    "                lemma = token.lemma_\n",
    "            else :\n",
    "                lemma = token.lower_\n",
    "\n",
    "            # ignore stopwords, non-descriptive words (defined in cell above)\n",
    "            # and words less than 2 characters\n",
    "            lexeme = nlp.vocab[lemma]\n",
    "            if lexeme.is_stop == False :#and lemma not in excl_terms and len(lemma) > 2 :\n",
    "                tokens.append(lemma)\n",
    "    \n",
    "    return tokens"
   ]
  },
  {
   "cell_type": "markdown",
   "metadata": {},
   "source": [
    "### Process the text"
   ]
  },
  {
   "cell_type": "code",
   "execution_count": 10,
   "metadata": {},
   "outputs": [],
   "source": [
    "df['Tokens'] = df['Text'].apply(lambda x: prep(x))"
   ]
  },
  {
   "cell_type": "markdown",
   "metadata": {},
   "source": [
    "### Take a look at the word-frequency distribution of all returned tokens"
   ]
  },
  {
   "cell_type": "code",
   "execution_count": 11,
   "metadata": {},
   "outputs": [
    {
     "data": {
      "image/png": "[encoded data removed]",
      "text/plain": [
       "<Figure size 432x576 with 1 Axes>"
      ]
     },
     "metadata": {},
     "output_type": "display_data"
    }
   ],
   "source": [
    "alltokens = [token for row in df['Tokens'] for token in row]\n",
    "alltokens = pd.Series(alltokens)\n",
    "\n",
    "f, ax = plt.subplots(figsize=(6, 8))\n",
    "\n",
    "sns.barplot(x = alltokens.value_counts()[0:20].values, \n",
    "            y = alltokens.value_counts()[0:20].index,\n",
    "            color = sns.color_palette()[0])\n",
    "ax.set(xlabel=\"no. occurences\", xticks=[0,50000,100000,150000])\n",
    "\n",
    "plt.show()"
   ]
  },
  {
   "cell_type": "markdown",
   "metadata": {},
   "source": [
    "## Topic Modelling\n",
    "\n",
    "Using Gensim's LDA (Latent Dirichlet Allocation) model.\n",
    "\n",
    "Note this is computationally expensive - use all but one core"
   ]
  },
  {
   "cell_type": "code",
   "execution_count": 12,
   "metadata": {},
   "outputs": [],
   "source": [
    "ncores = mp.cpu_count()-2"
   ]
  },
  {
   "cell_type": "code",
   "execution_count": 13,
   "metadata": {},
   "outputs": [
    {
     "name": "stdout",
     "output_type": "stream",
     "text": [
      "57727 samples for topic modelling\n"
     ]
    }
   ],
   "source": [
    "print(len(df), 'samples for topic modelling')\n",
    "docs = list(df['Tokens'])"
   ]
  },
  {
   "cell_type": "markdown",
   "metadata": {},
   "source": [
    "#### Create bag of words"
   ]
  },
  {
   "cell_type": "code",
   "execution_count": 14,
   "metadata": {},
   "outputs": [
    {
     "name": "stdout",
     "output_type": "stream",
     "text": [
      "n words: 60478\n",
      "n words post-filter: 13413\n"
     ]
    }
   ],
   "source": [
    "dictionary = gensim.corpora.Dictionary(docs)\n",
    "print('n words:',len(dictionary))\n",
    "\n",
    "# Filter out words that occur in less than 10 docs, or more than 60% of the docs\n",
    "dictionary.filter_extremes(no_below=10, no_above=0.6)\n",
    "\n",
    "print('n words post-filter:',len(dictionary))\n",
    "\n",
    "# For each doc create a dictionary of words and word freq\n",
    "corpus = [dictionary.doc2bow(doc) for doc in docs]"
   ]
  },
  {
   "cell_type": "code",
   "execution_count": 15,
   "metadata": {},
   "outputs": [],
   "source": [
    "# Make a index to word dictionary\n",
    "temp = dictionary[0]  # to \"load\" the dictionary\n",
    "id2word = dictionary.id2token"
   ]
  },
  {
   "cell_type": "markdown",
   "metadata": {},
   "source": [
    "#### Get tfidf\n",
    "\n",
    "Term frequency inverse document frequency score will be higher if the term is used more frequently in a document but lower if the term is used in more documents. The idea being that terms with the highest tfidf score for a given document are the most distinguishing ones for that particular document."
   ]
  },
  {
   "cell_type": "code",
   "execution_count": 17,
   "metadata": {},
   "outputs": [
    {
     "name": "stdout",
     "output_type": "stream",
     "text": [
      "[['affect', 1], ['british', 1], ['buyers', 1], ['buying', 1], ['central', 1], ['change', 1], ['cities', 1], ['citizens', 2], ['commercial', 1], ['concept', 1], ['differently', 1], ['duty', 1], ['especially', 1], ['essentially', 1], ['everybody', 1], ['extra', 1], ['foreign', 3], ['george', 1], ['ghost', 1], ['guided', 1], ['harsh', 1], ['heavy', 1], ['homes', 2], ['house', 1], ['implemented', 1], ['impose', 1], ['imposing', 1], ['issue', 1], ['land', 1], ['like', 1], ['london', 1], ['lowered', 1], ['mansion', 1], ['market', 2], ['meaningless', 1], ['million', 2], ['mis', 1], ['nationals', 1], ['oil', 1], ['osbornes', 1], ['pave', 1], ['pounds', 1], ['priced', 1], ['prices', 1], ['properties', 2], ['property', 2], ['real', 1], ['reforms', 1], ['second', 1], ['similar', 1], ['sound', 1], ['stamp', 1], ['step', 1], ['tax', 4], ['tenth', 1], ['terrified', 1], ['use', 1], ['way', 1], ['wealthy', 1], ['worth', 1]]\n",
      "\n",
      "[['affect', 0.09388608602011515], ['british', 0.056425803965996925], ['buyers', 0.11592507401110745], ['buying', 0.10318823553607828], ['central', 0.1024408384502772], ['change', 0.05437347329428573], ['cities', 0.10657183094765142], ['citizens', 0.1438416271653182], ['commercial', 0.10305444537360815], ['concept', 0.13544161914925057], ['differently', 0.14060539292606167], ['duty', 0.0867307866519288], ['especially', 0.07832423069338358], ['essentially', 0.13485083026594813], ['everybody', 0.12039607518831805], ['extra', 0.08518204817623296], ['foreign', 0.2550820181536286], ['george', 0.12779080263911985], ['ghost', 0.1780076333695214], ['guided', 0.16879089516391832], ['harsh', 0.13646372733440726], ['heavy', 0.11840428052212151], ['homes', 0.1600250492112472], ['house', 0.07370276376390933], ['implemented', 0.10764481077755311], ['impose', 0.1062085561280682], ['imposing', 0.13194729854033138], ['issue', 0.07443297815791877], ['land', 0.089320060780093], ['like', 0.047747865053553454], ['london', 0.07829600759335949], ['lowered', 0.13335022871549942], ['mansion', 0.17075246915895914], ['market', 0.17648457468540074], ['meaningless', 0.16167007684179213], ['million', 0.15572641693866598], ['mis', 0.13985748747786145], ['nationals', 0.11489997498811537], ['oil', 0.11195343405833756], ['osbornes', 0.18109323748862696], ['pave', 0.17661602503517004], ['pounds', 0.09050417880156224], ['priced', 0.13281337661955686], ['prices', 0.08788734195599585], ['properties', 0.19802457125048323], ['property', 0.1647659847965933], ['real', 0.08788734195599585], ['reforms', 0.12337493431050897], ['second', 0.08950899907846928], ['similar', 0.08279601275787786], ['sound', 0.12553297841507902], ['stamp', 0.12248102618784487], ['step', 0.10155197589355808], ['tax', 0.20836008341588463], ['tenth', 0.17530880994099682], ['terrified', 0.16167007684179213], ['use', 0.049359234843833505], ['way', 0.057673326836634856], ['wealthy', 0.12326114805521614], ['worth', 0.10405541369329421]]\n"
     ]
    }
   ],
   "source": [
    "tfidf = TfidfModel(corpus, smartirs='ntc')\n",
    "\n",
    "print([[dictionary[id], freq] for id, freq in corpus[1]])\n",
    "print()\n",
    "print([[dictionary[id], freq] for id, freq in tfidf[corpus[1]]])"
   ]
  },
  {
   "cell_type": "markdown",
   "metadata": {},
   "source": [
    "#### Save docs, dictionary, corpus and tfidf model to file"
   ]
  },
  {
   "cell_type": "code",
   "execution_count": 23,
   "metadata": {},
   "outputs": [
    {
     "name": "stdout",
     "output_type": "stream",
     "text": [
      "Saved to models/topicmodel_docs_dict_corpus_tfidf.pkl\n"
     ]
    }
   ],
   "source": [
    "write_pkl('models/topicmodel_docs_dict_corpus_tfidf.pkl', (docs, dictionary, corpus, tfidf))"
   ]
  },
  {
   "cell_type": "markdown",
   "metadata": {},
   "source": [
    "#### Function to get model topic coherence\n",
    "\n",
    "There are many coherence measures - see https://radimrehurek.com/gensim/models/ldamodel.html#gensim.models.ldamodel.LdaModel.top_topics.\n",
    "\n",
    "Below we are evaluating the more commonly used - c_v and u_mass"
   ]
  },
  {
   "cell_type": "code",
   "execution_count": 22,
   "metadata": {},
   "outputs": [],
   "source": [
    "def get_topic_coherence(model, coherence, num_topics):\n",
    "    \n",
    "    top_topics = model.top_topics(corpus, coherence=coherence, texts=docs, dictionary=dictionary) #, num_words=20)\n",
    "    # Average topic coherence: sum of topic coherences of all topics, divided by no. of topics\n",
    "    avg_topic_coherence = sum([t[1] for t in top_topics]) / num_topics\n",
    "\n",
    "    return (top_topics, avg_topic_coherence)"
   ]
  },
  {
   "cell_type": "markdown",
   "metadata": {},
   "source": [
    "### Train LDA model\n",
    "\n",
    "Things to note:\n",
    "\n",
    "#### DATA\n",
    "\n",
    "As outlined above, the data used for topic extraction is UK Parliament e-petitions. The data fields used are *action*, *background* and *additional information* combined (column `Tokens`).\n",
    "\n",
    "#### MODEL PARAMETERS\n",
    "\n",
    "* number of topics is optimised around 30 topics (tested from 5 to 80 topics, saved only 22 to 32 topics)\n",
    "* if all docs will fit in memory (chunksize >= number of training docs) then this gives better coherence scores than passing smaller chunks \n",
    "* tuning of eta and alpha parameters has not been explored (nor number of passes and iterations required for convergence)"
   ]
  },
  {
   "cell_type": "code",
   "execution_count": 35,
   "metadata": {},
   "outputs": [
    {
     "name": "stdout",
     "output_type": "stream",
     "text": [
      "Loaded topic coherence dataframe\n",
      "Saved to models/LDAmodel_014topics.pkl\n",
      "\t u_mass calculated\n",
      "\t c_v calculated\n",
      "Saved to models/LDAmodel_016topics.pkl\n",
      "\t u_mass calculated\n",
      "\t c_v calculated\n",
      "Saved to models/LDAmodel_018topics.pkl\n",
      "\t u_mass calculated\n",
      "\t c_v calculated\n",
      "Saved to models/LDAmodel_020topics.pkl\n",
      "\t u_mass calculated\n",
      "\t c_v calculated\n",
      "Saved to models/LDAmodel_022topics.pkl\n",
      "\t u_mass calculated\n",
      "\t c_v calculated\n",
      "Saved to models/LDAmodel_024topics.pkl\n",
      "\t u_mass calculated\n",
      "\t c_v calculated\n",
      "Saved to models/LDAmodel_026topics.pkl\n",
      "\t u_mass calculated\n",
      "\t c_v calculated\n",
      "Saved to models/LDAmodel_028topics.pkl\n",
      "\t u_mass calculated\n",
      "\t c_v calculated\n",
      "Saved to models/LDAmodel_030topics.pkl\n",
      "\t u_mass calculated\n",
      "\t c_v calculated\n",
      "Saved to models/LDAmodel_032topics.pkl\n",
      "\t u_mass calculated\n",
      "\t c_v calculated\n",
      "Saved to models/LDAmodel_034topics.pkl\n",
      "\t u_mass calculated\n",
      "\t c_v calculated\n",
      "Saved to models/topic_coherence.pkl\n"
     ]
    }
   ],
   "source": [
    "# coherence score data fields to store\n",
    "cohdf_cols = ['num_topics','coherence_measure','avg_topic_coherence','top_topics','model']\n",
    "\n",
    "# load coherence dataframe from pickle, or create if doesn't exist\n",
    "try :\n",
    "    coherence_df = read_pkl('models/topic_coherence.pkl')\n",
    "    print('Loaded topic coherence dataframe')\n",
    "except :\n",
    "    coherence_df = pd.DataFrame(columns = cohdf_cols)\n",
    "\n",
    "## TRAIN MODEL\n",
    "\n",
    "# Train model(/s) for specified number of topics\n",
    "for num_topics in [14,16,18,20,22,24,26,28,30,32,34]: #4,6,8,10,12\n",
    "\n",
    "    # Set training parameters\n",
    "    chunksize = len(docs) # all docs in one go\n",
    "    passes = 20\n",
    "    iterations = 400\n",
    "    eval_every = None  # Don't evaluate model perplexity, takes too much time\n",
    "\n",
    "    # train model\n",
    "    model = gensim.models.LdaMulticore(\n",
    "        corpus=tfidf[corpus],\n",
    "        #corpus=corpus,\n",
    "        id2word=id2word,\n",
    "        chunksize=chunksize,\n",
    "    #    alpha='auto', # alpha auto tuning not available in multi-core mode, use LdaModel\n",
    "        eta='auto',\n",
    "        iterations=iterations,\n",
    "        num_topics=num_topics,\n",
    "        passes=passes,\n",
    "        eval_every=eval_every,\n",
    "        workers=ncores\n",
    "    )\n",
    "\n",
    "    # save model to file\n",
    "    modelstr = 'LDAmodel_%03dtopics' % (num_topics)\n",
    "    write_pkl('models/'+modelstr+'.pkl', model)\n",
    "    \n",
    "    # calculate topic coherence measures\n",
    "    for coherence in ['u_mass','c_v']: #,'c_uci','c_npmi']:\n",
    "        \n",
    "        print('\\t', coherence, 'calculated')\n",
    "        (top_topics, avg_topic_coherence) = get_topic_coherence(model=model, coherence=coherence, num_topics=num_topics)\n",
    "        \n",
    "        # append to dataframe\n",
    "        cohdf_data = [[num_topics, coherence, avg_topic_coherence, top_topics, modelstr]]\n",
    "        coherence_df = coherence_df.append(pd.DataFrame(cohdf_data, columns=cohdf_cols),\n",
    "                                           ignore_index=True)\n",
    "\n",
    "# update coherence dataframe pickle file\n",
    "write_pkl('models/topic_coherence.pkl', coherence_df)"
   ]
  },
  {
   "cell_type": "markdown",
   "metadata": {},
   "source": [
    "#### Plot topic coherence versus number of topics"
   ]
  },
  {
   "cell_type": "code",
   "execution_count": 36,
   "metadata": {},
   "outputs": [
    {
     "data": {
      "image/png": "[encoded data removed]",
      "text/plain": [
       "<Figure size 720x576 with 2 Axes>"
      ]
     },
     "metadata": {},
     "output_type": "display_data"
    }
   ],
   "source": [
    "coherence_df = read_pkl('models/topic_coherence.pkl')\n",
    "\n",
    "fig, ax = plt.subplots(2, 1, figsize=(10,8), sharex=True)\n",
    "\n",
    "sns.scatterplot(x = \"num_topics\", y = \"avg_topic_coherence\",\n",
    "                data = coherence_df[coherence_df['coherence_measure'] == 'c_v'],\n",
    "                ax = ax[0])\n",
    "ax[0].set_ylabel('avg topic coherence')\n",
    "ax[0].set_xlabel('no. topics')\n",
    "#ax[0].legend(facecolor='white', loc='upper left', bbox_to_anchor=(1, 1))\n",
    "ax[0].set_title('Coherence measure: c_v')\n",
    "\n",
    "sns.scatterplot(x = \"num_topics\", y = \"avg_topic_coherence\",\n",
    "                data = coherence_df[coherence_df['coherence_measure'] == 'u_mass'],\n",
    "                ax=ax[1])\n",
    "ax[1].set_ylabel('avg topic coherence')\n",
    "ax[1].set_xlabel('no. topics')\n",
    "#ax[1].get_legend().remove()\n",
    "ax[1].set_title('Coherence measure: u_mass')\n",
    "\n",
    "plt.show()"
   ]
  },
  {
   "cell_type": "markdown",
   "metadata": {},
   "source": [
    "The model topic coherences show that\n",
    "* using both charitable objects *and* aims and activities is better than aims and activities alone, and\n",
    "* number of topics is optimised at 27 topics"
   ]
  },
  {
   "cell_type": "markdown",
   "metadata": {},
   "source": [
    "## Visualise model\n",
    "\n",
    "#### Load model from file"
   ]
  },
  {
   "cell_type": "code",
   "execution_count": 37,
   "metadata": {},
   "outputs": [],
   "source": [
    "num_topics = 16\n",
    "\n",
    "modelstr = 'LDAmodel_%03dtopics' % (num_topics)\n",
    "model = read_pkl('models/%s.pkl' % (modelstr))"
   ]
  },
  {
   "cell_type": "markdown",
   "metadata": {},
   "source": [
    "#### Print model topic word clouds to file"
   ]
  },
  {
   "cell_type": "code",
   "execution_count": 39,
   "metadata": {},
   "outputs": [],
   "source": [
    "if not os.path.exists('models/'+modelstr):\n",
    "    os.mkdir('models/'+modelstr)\n",
    "\n",
    "for t in range(model.num_topics):\n",
    "    fig, ax = plt.subplots(dpi=300)\n",
    "    ax = plt.imshow(WordCloud(background_color='white',\n",
    "                              width=800,\n",
    "                              height=400\n",
    "                             ).fit_words(dict(model.show_topic(t,200))))\n",
    "    plt.axis(\"off\")\n",
    "    plt.title(\"Topic \" + str(t+1))\n",
    "    plt.tight_layout()\n",
    "    plt.savefig('models/%s/topic%03d.png' % (modelstr,t+1), format='png')\n",
    "    plt.close(fig)"
   ]
  },
  {
   "cell_type": "code",
   "execution_count": null,
   "metadata": {},
   "outputs": [],
   "source": [
    "# Visualize the topics\n",
    "pyLDAvis.enable_notebook()\n",
    "vis = pyLDAvis.gensim.prepare(model, corpus, dictionary=dictionary, mds='mmds', sort_topics=False)\n",
    "vis"
   ]
  },
  {
   "cell_type": "code",
   "execution_count": null,
   "metadata": {},
   "outputs": [],
   "source": []
  }
 ],
 "metadata": {
  "kernelspec": {
   "display_name": "Python 3",
   "language": "python",
   "name": "python3"
  },
  "language_info": {
   "codemirror_mode": {
    "name": "ipython",
    "version": 3
   },
   "file_extension": ".py",
   "mimetype": "text/x-python",
   "name": "python",
   "nbconvert_exporter": "python",
   "pygments_lexer": "ipython3",
   "version": "3.8.8"
  }
 },
 "nbformat": 4,
 "nbformat_minor": 2
}
