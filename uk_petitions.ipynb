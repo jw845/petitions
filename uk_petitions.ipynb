{
 "cells": [
  {
   "cell_type": "markdown",
   "metadata": {},
   "source": [
    "# What does the public want?\n",
    "\n",
    "## Identifying the main themes in UK Parliament e-petitions"
   ]
  },
  {
   "cell_type": "markdown",
   "metadata": {},
   "source": [
    "The ability to petition Parliament gives the people **power to join together in support of causes and effect change**. In the UK, British citizens and UK residents are able to create petitions on the UK Parliament petitions website; at 10,000 signatures petitions will get a response from the government, at 100,000 signatures petitions will be considered for a debate in Parliament (though it's of course not always successful, take [Revoke Article 50 and remain in the EU](https://petition.parliament.uk/archived/petitions/241584) for example).\n",
    "\n",
    "**But what, you ask, are the themes that keep appearing?** In an age of information overload, it can be hard to keep track. In this notebook I use topic modelling to pull out the key themes in petitions submitted by members of the public to the UK Parliament e-petitions website.\n",
    "\n",
    "Data is sourced from the [UK Parliament petitions website](https://petition.parliament.uk/), available under the Open Government Licence v3.0 ([OGL v3.0](https://www.nationalarchives.gov.uk/doc/open-government-licence/version/3/)). More info on the history of the UK Parliament petitions website can be found in the [wikipedia entry](https://en.wikipedia.org/wiki/UK_Parliament_petitions_website)."
   ]
  },
  {
   "cell_type": "markdown",
   "metadata": {},
   "source": [
    "### Import libraries"
   ]
  },
  {
   "cell_type": "code",
   "execution_count": 108,
   "metadata": {},
   "outputs": [],
   "source": [
    "import glob\n",
    "import pickle\n",
    "import pandas as pd\n",
    "\n",
    "import urllib3\n",
    "from bs4 import BeautifulSoup\n",
    "import json\n",
    "import time\n",
    "\n",
    "http = urllib3.PoolManager()"
   ]
  },
  {
   "cell_type": "markdown",
   "metadata": {},
   "source": [
    "#### Functions to read and write to pickle"
   ]
  },
  {
   "cell_type": "code",
   "execution_count": 111,
   "metadata": {},
   "outputs": [],
   "source": [
    "def write_pkl(fname, obj):\n",
    "    with open(fname,'wb') as pklf:\n",
    "        pickle.dump((obj), pklf)\n",
    "        \n",
    "def read_pkl(fname):\n",
    "    with open(fname,'rb') as pklf:\n",
    "        obj = pickle.load(pklf)\n",
    "    return obj"
   ]
  },
  {
   "cell_type": "markdown",
   "metadata": {},
   "source": [
    "### Get the data\n",
    "\n",
    "First, I download lists (CSV format) of current and archived petitions from the [UK Parliament petitions website](https://petition.parliament.uk/). At time of accessing the data, the archive covers 2010-2019, and current through to mid- 2021.\n",
    "\n",
    "#### Read the lists of petitions\n",
    "\n",
    "Stored locally in `data/`."
   ]
  },
  {
   "cell_type": "code",
   "execution_count": 112,
   "metadata": {},
   "outputs": [
    {
     "name": "stdout",
     "output_type": "stream",
     "text": [
      "57727 petitions (23456 rejected petitions discarded)\n"
     ]
    },
    {
     "data": {
      "text/html": [
       "<div>\n",
       "<style scoped>\n",
       "    .dataframe tbody tr th:only-of-type {\n",
       "        vertical-align: middle;\n",
       "    }\n",
       "\n",
       "    .dataframe tbody tr th {\n",
       "        vertical-align: top;\n",
       "    }\n",
       "\n",
       "    .dataframe thead th {\n",
       "        text-align: right;\n",
       "    }\n",
       "</style>\n",
       "<table border=\"1\" class=\"dataframe\">\n",
       "  <thead>\n",
       "    <tr style=\"text-align: right;\">\n",
       "      <th></th>\n",
       "      <th>Petition</th>\n",
       "      <th>URL</th>\n",
       "      <th>State</th>\n",
       "      <th>Signatures Count</th>\n",
       "    </tr>\n",
       "  </thead>\n",
       "  <tbody>\n",
       "    <tr>\n",
       "      <th>0</th>\n",
       "      <td>Introduce a rate increase cap on pay TV pricin...</td>\n",
       "      <td>https://petition.parliament.uk/archived/petiti...</td>\n",
       "      <td>closed</td>\n",
       "      <td>22</td>\n",
       "    </tr>\n",
       "    <tr>\n",
       "      <th>1</th>\n",
       "      <td>Impose a heavy extra tax on foreign buyers of ...</td>\n",
       "      <td>https://petition.parliament.uk/archived/petiti...</td>\n",
       "      <td>closed</td>\n",
       "      <td>383</td>\n",
       "    </tr>\n",
       "    <tr>\n",
       "      <th>2</th>\n",
       "      <td>Hold a referendum on electoral reform with the...</td>\n",
       "      <td>https://petition.parliament.uk/archived/petiti...</td>\n",
       "      <td>closed</td>\n",
       "      <td>4767</td>\n",
       "    </tr>\n",
       "    <tr>\n",
       "      <th>3</th>\n",
       "      <td>Make the 'Steam' refund policy the law for all...</td>\n",
       "      <td>https://petition.parliament.uk/archived/petiti...</td>\n",
       "      <td>closed</td>\n",
       "      <td>94</td>\n",
       "    </tr>\n",
       "    <tr>\n",
       "      <th>4</th>\n",
       "      <td>Ban unpaid internships</td>\n",
       "      <td>https://petition.parliament.uk/archived/petiti...</td>\n",
       "      <td>closed</td>\n",
       "      <td>438</td>\n",
       "    </tr>\n",
       "  </tbody>\n",
       "</table>\n",
       "</div>"
      ],
      "text/plain": [
       "                                            Petition  \\\n",
       "0  Introduce a rate increase cap on pay TV pricin...   \n",
       "1  Impose a heavy extra tax on foreign buyers of ...   \n",
       "2  Hold a referendum on electoral reform with the...   \n",
       "3  Make the 'Steam' refund policy the law for all...   \n",
       "4                             Ban unpaid internships   \n",
       "\n",
       "                                                 URL   State  Signatures Count  \n",
       "0  https://petition.parliament.uk/archived/petiti...  closed                22  \n",
       "1  https://petition.parliament.uk/archived/petiti...  closed               383  \n",
       "2  https://petition.parliament.uk/archived/petiti...  closed              4767  \n",
       "3  https://petition.parliament.uk/archived/petiti...  closed                94  \n",
       "4  https://petition.parliament.uk/archived/petiti...  closed               438  "
      ]
     },
     "execution_count": 112,
     "metadata": {},
     "output_type": "execute_result"
    }
   ],
   "source": [
    "df = pd.DataFrame()\n",
    "\n",
    "for f in glob.glob('data/*.csv'):\n",
    "    df = df.append(pd.read_csv(f, header=0), ignore_index=True)\n",
    "    \n",
    "# Drop rejected petitions\n",
    "rejects = df[df['State'] == 'rejected']\n",
    "df = df[~df['URL'].isin(rejects['URL'])].reset_index(drop=True)\n",
    "\n",
    "print('%d petitions (%d rejected petitions discarded)' % (len(df), len(rejects)))\n",
    "df.head()"
   ]
  },
  {
   "cell_type": "markdown",
   "metadata": {},
   "source": [
    "#### Get the petition details\n",
    "The details of each petition (json entry) are pulled from the parliament site using the URL in the lists. I save all fields except signatures. *Note that web scraping should be done considerately and after referring to both T&Cs and robots.txt*"
   ]
  },
  {
   "cell_type": "code",
   "execution_count": null,
   "metadata": {},
   "outputs": [],
   "source": [
    "errlog, details = [],[]\n",
    "\n",
    "# iterate over dataframe rows (NB this method is slow, but that's okay as we want slow in this case)\n",
    "for index, row in df.iterrows():\n",
    "\n",
    "    url = row['URL']+'.json'\n",
    "    try :\n",
    "        # get url json\n",
    "        response = http.request('GET', url)\n",
    "        soup = BeautifulSoup(response.data)\n",
    "\n",
    "        # extract data attributes dict and add to list\n",
    "        petition_dict = json.loads(soup.text)['data']['attributes']\n",
    "        details.append((index, {key: value for key, value in petition_dict.items() if 'signature' not in key}))\n",
    "        \n",
    "    except :\n",
    "        errlog.append((index, row['URL']))\n",
    "        details.append((index, ''))\n",
    "        \n",
    "    # scrape considerately(!) - add a delay of one second between requests\n",
    "    time.sleep(1)\n",
    "    \n",
    "    # save the list approximately every half hour\n",
    "    if index % 1800 == 0 :\n",
    "        write_pkl('data/details.pkl', details)\n",
    "        write_pkl('data/errlog.pkl', errlog)\n",
    "        "
   ]
  },
  {
   "cell_type": "markdown",
   "metadata": {},
   "source": [
    "Add details dicts to dataframe"
   ]
  },
  {
   "cell_type": "code",
   "execution_count": 102,
   "metadata": {},
   "outputs": [],
   "source": [
    "indices, dicts = list(zip(*details)) # unzip the (index, dict) tuples\n",
    "df['Details Dict'] = list(dicts)"
   ]
  },
  {
   "cell_type": "code",
   "execution_count": 103,
   "metadata": {},
   "outputs": [
    {
     "data": {
      "text/html": [
       "<div>\n",
       "<style scoped>\n",
       "    .dataframe tbody tr th:only-of-type {\n",
       "        vertical-align: middle;\n",
       "    }\n",
       "\n",
       "    .dataframe tbody tr th {\n",
       "        vertical-align: top;\n",
       "    }\n",
       "\n",
       "    .dataframe thead th {\n",
       "        text-align: right;\n",
       "    }\n",
       "</style>\n",
       "<table border=\"1\" class=\"dataframe\">\n",
       "  <thead>\n",
       "    <tr style=\"text-align: right;\">\n",
       "      <th></th>\n",
       "      <th>Petition</th>\n",
       "      <th>URL</th>\n",
       "      <th>State</th>\n",
       "      <th>Signatures Count</th>\n",
       "      <th>Details Dict</th>\n",
       "    </tr>\n",
       "  </thead>\n",
       "  <tbody>\n",
       "    <tr>\n",
       "      <th>0</th>\n",
       "      <td>Introduce a rate increase cap on pay TV pricin...</td>\n",
       "      <td>https://petition.parliament.uk/archived/petiti...</td>\n",
       "      <td>closed</td>\n",
       "      <td>22</td>\n",
       "      <td>{'action': 'Introduce a rate increase cap on p...</td>\n",
       "    </tr>\n",
       "    <tr>\n",
       "      <th>1</th>\n",
       "      <td>Impose a heavy extra tax on foreign buyers of ...</td>\n",
       "      <td>https://petition.parliament.uk/archived/petiti...</td>\n",
       "      <td>closed</td>\n",
       "      <td>383</td>\n",
       "      <td>{'action': 'Impose a heavy extra tax on foreig...</td>\n",
       "    </tr>\n",
       "  </tbody>\n",
       "</table>\n",
       "</div>"
      ],
      "text/plain": [
       "                                            Petition  \\\n",
       "0  Introduce a rate increase cap on pay TV pricin...   \n",
       "1  Impose a heavy extra tax on foreign buyers of ...   \n",
       "\n",
       "                                                 URL   State  \\\n",
       "0  https://petition.parliament.uk/archived/petiti...  closed   \n",
       "1  https://petition.parliament.uk/archived/petiti...  closed   \n",
       "\n",
       "   Signatures Count                                       Details Dict  \n",
       "0                22  {'action': 'Introduce a rate increase cap on p...  \n",
       "1               383  {'action': 'Impose a heavy extra tax on foreig...  "
      ]
     },
     "execution_count": 103,
     "metadata": {},
     "output_type": "execute_result"
    }
   ],
   "source": [
    "df"
   ]
  },
  {
   "cell_type": "code",
   "execution_count": null,
   "metadata": {},
   "outputs": [],
   "source": []
  }
 ],
 "metadata": {
  "kernelspec": {
   "display_name": "Python 3",
   "language": "python",
   "name": "python3"
  },
  "language_info": {
   "codemirror_mode": {
    "name": "ipython",
    "version": 3
   },
   "file_extension": ".py",
   "mimetype": "text/x-python",
   "name": "python",
   "nbconvert_exporter": "python",
   "pygments_lexer": "ipython3",
   "version": "3.8.8"
  }
 },
 "nbformat": 4,
 "nbformat_minor": 2
}
